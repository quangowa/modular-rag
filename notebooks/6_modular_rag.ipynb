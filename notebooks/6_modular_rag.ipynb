{
 "cells": [
  {
   "cell_type": "markdown",
   "metadata": {},
   "source": [
    "# **Modular RAG** with Haystack and Hypster\n",
    "\n",
    "This project implements the concepts described in the paper: [Modular RAG: Transforming RAG Systems into LEGO-like Reconfigurable Frameworks](https://arxiv.org/abs/2407.21059) by Yunfan Gao et al. \n",
    "\n",
    "For a detailed walkthrough, refer to this [Medium article](https://medium.com/p/d2f0ecc88b8f).\n",
    "\n",
    "## Key Objectives\n",
    "\n",
    "- Decompose RAG (Retrieval-Augmented Generation) into its fundamental components using **Haystack**.\n",
    "- Utilize **Hypster** to manage a \"hyper-space\" of potential RAG configurations.\n",
    "- Facilitate easy swapping and experimentation with various implementations."
   ]
  },
  {
   "cell_type": "markdown",
   "metadata": {},
   "source": [
    "# Setup"
   ]
  },
  {
   "cell_type": "markdown",
   "metadata": {},
   "source": [
    "## Install Dependencies"
   ]
  },
  {
   "cell_type": "markdown",
   "metadata": {},
   "source": [
    "This project supports multiple package managers. Choose the method that best suits your environment:\n",
    "\n",
    "### uv\n",
    "\n",
    "```bash\n",
    "uv run --with jupyter jupyter lab\n",
    "```\n",
    "\n",
    "### Conda\n",
    "\n",
    "```bash\n",
    "conda env create -n modular-rag python=3.10 -y\n",
    "conda activate modular-rag\n",
    "pip install -r requirements.txt\n",
    "```\n",
    "\n",
    "### pip\n",
    "\n",
    "```bash\n",
    "pip install -r requirements.txt\n",
    "```"
   ]
  },
  {
   "cell_type": "markdown",
   "metadata": {},
   "source": [
    "## Define Environment Variables"
   ]
  },
  {
   "cell_type": "code",
   "execution_count": 1,
   "metadata": {},
   "outputs": [],
   "source": [
    "import getpass\n",
    "import os\n",
    "\n",
    "for var in [\"ANTHROPIC_API_KEY\", \"OPENAI_API_KEY\", \"JINA_API_KEY\"]:\n",
    "    if var not in os.environ:\n",
    "        os.environ[var] = getpass.getpass(f\"Enter {var}: \")"
   ]
  },
  {
   "cell_type": "markdown",
   "metadata": {},
   "source": [
    "## Set working directory to the project root"
   ]
  },
  {
   "cell_type": "code",
   "execution_count": 2,
   "metadata": {},
   "outputs": [
    {
     "name": "stdout",
     "output_type": "stream",
     "text": [
      "Current working directory: /Users/giladrubin/python_workspace/modular-rag\n"
     ]
    }
   ],
   "source": [
    "import os\n",
    "\n",
    "\n",
    "# Find the directory containing pyproject.toml by searching upwards from the current directory\n",
    "def find_project_root(start_dir=os.getcwd()):\n",
    "    current_dir = start_dir\n",
    "    while True:\n",
    "        if \"pyproject.toml\" in os.listdir(current_dir):\n",
    "            return current_dir\n",
    "        parent_dir = os.path.dirname(current_dir)\n",
    "        if parent_dir == current_dir:  # Reached the root directory\n",
    "            raise FileNotFoundError(\"Could not find pyproject.toml in any parent directory.\")\n",
    "        current_dir = parent_dir\n",
    "\n",
    "\n",
    "# Set the working directory to the project root\n",
    "PROJECT_ROOT = find_project_root()\n",
    "os.chdir(PROJECT_ROOT)\n",
    "\n",
    "# Print the current working directory for confirmation\n",
    "print(\"Current working directory:\", os.getcwd())"
   ]
  },
  {
   "cell_type": "markdown",
   "metadata": {},
   "source": [
    "## Load Environment Variables"
   ]
  },
  {
   "cell_type": "code",
   "execution_count": 3,
   "metadata": {},
   "outputs": [
    {
     "data": {
      "text/plain": [
       "True"
      ]
     },
     "execution_count": 3,
     "metadata": {},
     "output_type": "execute_result"
    }
   ],
   "source": [
    "from dotenv import load_dotenv\n",
    "\n",
    "load_dotenv()"
   ]
  },
  {
   "cell_type": "markdown",
   "metadata": {},
   "source": [
    "# Motivation"
   ]
  },
  {
   "cell_type": "markdown",
   "metadata": {},
   "source": [
    "<img src=\"../assets/graphs/full_pipelines.webp\" width=\"80%\" style=\"display: block; margin: 0 auto;\">"
   ]
  },
  {
   "cell_type": "markdown",
   "metadata": {},
   "source": [
    "# LLM"
   ]
  },
  {
   "cell_type": "code",
   "execution_count": 4,
   "metadata": {},
   "outputs": [],
   "source": [
    "from hypster import HP, config"
   ]
  },
  {
   "cell_type": "code",
   "execution_count": 5,
   "metadata": {},
   "outputs": [],
   "source": [
    "@config\n",
    "def llm_config(hp: HP):\n",
    "    import os\n",
    "\n",
    "    anthropic_models = {\"haiku\": \"claude-3-haiku-20240307\", \"sonnet\": \"claude-3-5-sonnet-20240620\"}\n",
    "    openai_models = {\"gpt-4o-mini\": \"gpt-4o-mini\", \"gpt-4o\": \"gpt-4o\", \"gpt-4o-latest\": \"gpt-4o-2024-08-06\"}\n",
    "    ollama_models = {\"llama3\": \"llama3\", \"llama3.1\": \"llama3.1\", \"mistral\": \"mistral\"}\n",
    "    model_options = {**anthropic_models, **openai_models, **ollama_models}\n",
    "\n",
    "    model = hp.select(model_options, default=\"gpt-4o-mini\")\n",
    "    temperature = hp.number(0.0, min=0.0, max=1.0)\n",
    "\n",
    "    if model in openai_models.values():\n",
    "        from haystack.components.generators import OpenAIGenerator\n",
    "\n",
    "        llm = OpenAIGenerator(model=model, generation_kwargs={\"temperature\": temperature})\n",
    "    elif model in anthropic_models.values():\n",
    "        from haystack_integrations.components.generators.anthropic import AnthropicGenerator\n",
    "\n",
    "        llm = AnthropicGenerator(model=model, generation_kwargs={\"temperature\": temperature})\n",
    "    else:\n",
    "        from haystack_integrations.components.generators.ollama import OllamaGenerator\n",
    "\n",
    "        base_url = hp.text(os.environ.get(\"OLLAMA_BASE_URL\", \"http://localhost:11434\"), name=\"ollama_base_url\")\n",
    "        llm = OllamaGenerator(model=model, url=base_url, generation_kwargs={\"temperature\": temperature})\n",
    "\n",
    "\n",
    "llm_config.save(\"configs/llm.py\")\n"
   ]
  },
  {
   "cell_type": "code",
   "execution_count": 29,
   "metadata": {},
   "outputs": [
    {
     "data": {
      "text/html": [
       "\n",
       "    <style>\n",
       "    .cell-output-ipywidget-background {\n",
       "        background-color: transparent !important;\n",
       "    }\n",
       "    :root {\n",
       "        --jp-widgets-color: var(--vscode-editor-foreground);\n",
       "        --jp-widgets-font-size: var(--vscode-editor-font-size);\n",
       "    }\n",
       "    </style>\n",
       "    "
      ],
      "text/plain": [
       "<IPython.core.display.HTML object>"
      ]
     },
     "metadata": {},
     "output_type": "display_data"
    },
    {
     "data": {
      "application/vnd.jupyter.widget-view+json": {
       "model_id": "df8e4a36f7aa461e974ac238ed21dcc7",
       "version_major": 2,
       "version_minor": 0
      },
      "text/plain": [
       "VBox(children=(Dropdown(description='model', index=2, layout=Layout(min_width='300px', width='300px'), options\u2026"
      ]
     },
     "metadata": {},
     "output_type": "display_data"
    }
   ],
   "source": [
    "from hypster.ui import apply_vscode_theme, interactive_config\n",
    "\n",
    "apply_vscode_theme()\n",
    "results = interactive_config(llm_config)"
   ]
  },
  {
   "cell_type": "markdown",
   "metadata": {},
   "source": [
    "# Indexing Pipeline"
   ]
  },
  {
   "cell_type": "markdown",
   "metadata": {},
   "source": [
    "<img src=\"../assets/graphs/full_index.webp\" width=\"50%\" style=\"display: block; margin: 0 auto;\">"
   ]
  },
  {
   "cell_type": "code",
   "execution_count": 7,
   "metadata": {},
   "outputs": [],
   "source": [
    "from hypster import HP, config\n",
    "\n",
    "\n",
    "@config\n",
    "def indexing_config(hp: HP):\n",
    "    from haystack import Pipeline\n",
    "    from haystack.components.converters import PyPDFToDocument\n",
    "\n",
    "    pipeline = Pipeline()\n",
    "    pipeline.add_component(\"loader\", PyPDFToDocument())\n",
    "\n",
    "    enrich_doc_w_llm = hp.select([True, False], default=True)\n",
    "    if enrich_doc_w_llm:\n",
    "        from textwrap import dedent\n",
    "\n",
    "        from haystack.components.builders import PromptBuilder\n",
    "\n",
    "        from src.haystack_utils import AddLLMMetadata\n",
    "\n",
    "        template = dedent(\"\"\"\n",
    "            Summarize the document's main topic in one sentence (15 words max). \n",
    "            Then list 3-5 keywords or acronyms that best \\\n",
    "            represent its content for search purposes.\n",
    "\n",
    "            Context:\n",
    "            {{ documents[0].content[:1000] }}\n",
    "            \n",
    "            ============================\n",
    "            \n",
    "            Output format:\n",
    "\n",
    "            Summary:\n",
    "            Keywords:\n",
    "        \"\"\")\n",
    "\n",
    "        llm = hp.nest(\"configs/llm.py\")\n",
    "        pipeline.add_component(\"prompt_builder\", PromptBuilder(template=template))\n",
    "        pipeline.add_component(\"llm\", llm[\"llm\"])\n",
    "        pipeline.add_component(\"document_enricher\", AddLLMMetadata())\n",
    "        pipeline.connect(\"loader\", \"prompt_builder\")\n",
    "        pipeline.connect(\"prompt_builder\", \"llm\")\n",
    "        pipeline.connect(\"llm\", \"document_enricher\")\n",
    "        pipeline.connect(\"loader\", \"document_enricher\")\n",
    "\n",
    "        splitter_source = \"document_enricher\"\n",
    "    else:\n",
    "        splitter_source = \"loader\"\n",
    "\n",
    "    from haystack.components.preprocessors import DocumentSplitter\n",
    "\n",
    "    split_by = hp.select([\"sentence\", \"word\", \"passage\", \"page\"], default=\"sentence\")\n",
    "    splitter = DocumentSplitter(split_by=split_by, split_length=hp.int(10), split_overlap=hp.int(2))\n",
    "\n",
    "    pipeline.add_component(\"splitter\", splitter)\n",
    "    pipeline.connect(splitter_source, \"splitter\")\n",
    "\n",
    "\n",
    "indexing_config.save(\"configs/indexing.py\")"
   ]
  },
  {
   "cell_type": "code",
   "execution_count": 8,
   "metadata": {},
   "outputs": [
    {
     "data": {
      "application/vnd.jupyter.widget-view+json": {
       "model_id": "5238e336cc564ac49fc2e8aef6afab3d",
       "version_major": 2,
       "version_minor": 0
      },
      "text/plain": [
       "VBox(children=(Dropdown(description='enrich_doc_w_llm', layout=Layout(min_width='300px', width='300px'), optio\u2026"
      ]
     },
     "metadata": {},
     "output_type": "display_data"
    }
   ],
   "source": [
    "results = interactive_config(indexing_config)"
   ]
  },
  {
   "cell_type": "code",
   "execution_count": 9,
   "metadata": {},
   "outputs": [
    {
     "data": {
      "text/plain": [
       "<haystack.core.pipeline.pipeline.Pipeline object at 0x31195c4f0>\n",
       "\ud83d\ude85 Components\n",
       "  - loader: PyPDFToDocument\n",
       "  - prompt_builder: PromptBuilder\n",
       "  - llm: OpenAIGenerator\n",
       "  - document_enricher: AddLLMMetadata\n",
       "  - splitter: DocumentSplitter\n",
       "\ud83d\udee4\ufe0f Connections\n",
       "  - loader.documents -> prompt_builder.documents (List[Document])\n",
       "  - loader.documents -> document_enricher.documents (List[Document])\n",
       "  - prompt_builder.prompt -> llm.prompt (str)\n",
       "  - llm.replies -> document_enricher.replies (List[str])\n",
       "  - document_enricher.documents -> splitter.documents (List[Document])"
      ]
     },
     "execution_count": 9,
     "metadata": {},
     "output_type": "execute_result"
    }
   ],
   "source": [
    "results[\"pipeline\"]"
   ]
  },
  {
   "cell_type": "markdown",
   "metadata": {},
   "source": [
    "# Embedding"
   ]
  },
  {
   "cell_type": "code",
   "execution_count": 10,
   "metadata": {},
   "outputs": [],
   "source": [
    "@config\n",
    "def fast_embed(hp: HP):\n",
    "    from typing import Any, Dict, List\n",
    "\n",
    "    from fastembed import TextEmbedding\n",
    "\n",
    "    def get_model_dim(chosen_model: str, model_list: List[Dict[str, Any]]) -> int:\n",
    "        for model in model_list:\n",
    "            if model[\"model\"] == chosen_model:\n",
    "                return model[\"dim\"]\n",
    "        raise ValueError(f\"Model {chosen_model} not found in the list of supported models.\")\n",
    "\n",
    "    from haystack_integrations.components.embedders.fastembed import (\n",
    "        FastembedDocumentEmbedder,\n",
    "        FastembedTextEmbedder,\n",
    "    )\n",
    "\n",
    "    meta_fileds_to_embed = [\"parent_doc_summary\"]\n",
    "\n",
    "    model = hp.select(\n",
    "        {\"bge-small\": \"BAAI/bge-small-en-v1.5\", \"mini-lm\": \"sentence-transformers/all-MiniLM-L6-v2\"},\n",
    "        default=\"mini-lm\",\n",
    "    )\n",
    "    import os\n",
    "\n",
    "    cpu_count = os.cpu_count() or 1\n",
    "    doc_embedder = FastembedDocumentEmbedder(\n",
    "        model=model,\n",
    "        parallel=hp.int(cpu_count),\n",
    "        meta_fields_to_embed=meta_fileds_to_embed,\n",
    "    )\n",
    "    text_embedder = FastembedTextEmbedder(model=model)\n",
    "    embedding_dim = get_model_dim(model, TextEmbedding.list_supported_models())\n",
    "\n",
    "\n",
    "fast_embed.save(\"configs/fast_embed.py\")"
   ]
  },
  {
   "cell_type": "code",
   "execution_count": 11,
   "metadata": {},
   "outputs": [
    {
     "data": {
      "application/vnd.jupyter.widget-view+json": {
       "model_id": "444cd3ea64924e73bcc20b35b45279d1",
       "version_major": 2,
       "version_minor": 0
      },
      "text/plain": [
       "VBox(children=(Dropdown(description='model', index=1, layout=Layout(min_width='300px', width='300px'), options\u2026"
      ]
     },
     "metadata": {},
     "output_type": "display_data"
    }
   ],
   "source": [
    "results = interactive_config(fast_embed)"
   ]
  },
  {
   "cell_type": "code",
   "execution_count": 12,
   "metadata": {},
   "outputs": [],
   "source": [
    "@config\n",
    "def jina_embed(hp: HP):\n",
    "    from haystack_integrations.components.embedders.jina import JinaDocumentEmbedder, JinaTextEmbedder\n",
    "\n",
    "    meta_fileds_to_embed = [\"parent_doc_summary\"]\n",
    "\n",
    "    model = hp.select({\"v3\": \"jina-embeddings-v3\", \"v2\": \"jina-embeddings-v2\"}, default=\"v3\")\n",
    "    if model == \"jina-embeddings-v3\":\n",
    "        late_chunking = hp.select([True, False], default=True, name=\"late_chunking\")\n",
    "    else:\n",
    "        late_chunking = False\n",
    "\n",
    "    doc_embedder = JinaDocumentEmbedder(\n",
    "        model=model,\n",
    "        batch_size=hp.int(16),\n",
    "        dimensions=hp.int(256),\n",
    "        task=\"retrieval.passage\",\n",
    "        late_chunking=late_chunking,\n",
    "        meta_fields_to_embed=meta_fileds_to_embed,\n",
    "    )\n",
    "    text_embedder = JinaTextEmbedder(model=model, dimensions=doc_embedder.dimensions, task=\"retrieval.query\")\n",
    "    embedding_dim = doc_embedder.dimensions\n",
    "\n",
    "\n",
    "jina_embed.save(\"configs/jina_embed.py\")"
   ]
  },
  {
   "cell_type": "code",
   "execution_count": 13,
   "metadata": {},
   "outputs": [
    {
     "data": {
      "application/vnd.jupyter.widget-view+json": {
       "model_id": "d63479fb3c65492185388886f4c96465",
       "version_major": 2,
       "version_minor": 0
      },
      "text/plain": [
       "VBox(children=(Dropdown(description='model', layout=Layout(min_width='300px', width='300px'), options=('v3', '\u2026"
      ]
     },
     "metadata": {},
     "output_type": "display_data"
    }
   ],
   "source": [
    "results = interactive_config(jina_embed)"
   ]
  },
  {
   "cell_type": "markdown",
   "metadata": {},
   "source": [
    "# Retrieval"
   ]
  },
  {
   "cell_type": "markdown",
   "metadata": {},
   "source": [
    "# <img src=\"../assets/graphs/fusion_retriever.webp\" width=\"60%\">"
   ]
  },
  {
   "cell_type": "code",
   "execution_count": 14,
   "metadata": {},
   "outputs": [],
   "source": [
    "@config\n",
    "def in_memory_retrieval(hp: HP):\n",
    "    from haystack import Pipeline\n",
    "    from haystack.document_stores.in_memory import InMemoryDocumentStore\n",
    "\n",
    "    from src.haystack_utils import PassThroughDocuments, PassThroughText\n",
    "\n",
    "    pipeline = Pipeline()\n",
    "    # utility components for the first and last parts of the pipline\n",
    "    pipeline.add_component(\"query\", PassThroughText())\n",
    "    pipeline.add_component(\"retrieved_documents\", PassThroughDocuments())\n",
    "\n",
    "    document_store = InMemoryDocumentStore()\n",
    "    from haystack.components.retrievers.in_memory import InMemoryEmbeddingRetriever\n",
    "\n",
    "    embedding_similarity_function = hp.select([\"cosine\", \"dot_product\"], default=\"cosine\")\n",
    "    document_store.embedding_similarity_function = embedding_similarity_function\n",
    "    pipeline.add_component(\"embedding_retriever\", InMemoryEmbeddingRetriever(document_store=document_store))\n",
    "\n",
    "    use_bm25 = hp.bool(True)\n",
    "    if use_bm25:\n",
    "        from haystack.components.joiners.document_joiner import DocumentJoiner\n",
    "        from haystack.components.retrievers.in_memory import InMemoryBM25Retriever\n",
    "\n",
    "        bm25_algorithm = hp.select([\"BM25Okapi\", \"BM25L\", \"BM25Plus\"], default=\"BM25L\")\n",
    "        document_store.bm25_algorithm = bm25_algorithm\n",
    "        pipeline.add_component(\"bm25_retriever\", InMemoryBM25Retriever(document_store=document_store))\n",
    "        pipeline.connect(\"query\", \"bm25_retriever\")\n",
    "\n",
    "        join_mode = hp.select(\n",
    "            [\"distribution_based_rank_fusion\", \"concatenate\", \"merge\", \"reciprocal_rank_fusion\"],\n",
    "            default=\"distribution_based_rank_fusion\",\n",
    "        )\n",
    "        bm25_weight = hp.number(0.5)\n",
    "        joiner = DocumentJoiner(join_mode=join_mode, top_k=hp.int(10), weights=[bm25_weight, 1 - bm25_weight])\n",
    "\n",
    "        pipeline.add_component(\"document_joiner\", joiner)\n",
    "        pipeline.connect(\"bm25_retriever\", \"document_joiner\")\n",
    "        pipeline.connect(\"embedding_retriever\", \"document_joiner\")\n",
    "        pipeline.connect(\"document_joiner\", \"retrieved_documents\")\n",
    "    else:\n",
    "        pipeline.connect(\"embedding_retriever\", \"retrieved_documents\")\n",
    "\n",
    "\n",
    "in_memory_retrieval.save(\"configs/in_memory_retrieval.py\")"
   ]
  },
  {
   "cell_type": "code",
   "execution_count": 15,
   "metadata": {},
   "outputs": [
    {
     "data": {
      "application/vnd.jupyter.widget-view+json": {
       "model_id": "d444db4cfc4f4c7998c385a90f10be99",
       "version_major": 2,
       "version_minor": 0
      },
      "text/plain": [
       "VBox(children=(Dropdown(description='embedding_similarity_function', layout=Layout(min_width='300px', width='3\u2026"
      ]
     },
     "metadata": {},
     "output_type": "display_data"
    }
   ],
   "source": [
    "results = interactive_config(in_memory_retrieval)"
   ]
  },
  {
   "cell_type": "code",
   "execution_count": 16,
   "metadata": {},
   "outputs": [],
   "source": [
    "@config\n",
    "def qdrant_retrieval(hp: HP):\n",
    "    from haystack_integrations.components.retrievers.qdrant import QdrantEmbeddingRetriever\n",
    "    from haystack_integrations.document_stores.qdrant import QdrantDocumentStore\n",
    "\n",
    "    # location = hp.text(\":memory:\")\n",
    "    embedding_similarity_function = hp.select([\"cosine\", \"dot_product\", \"l2\"], default=\"cosine\")\n",
    "\n",
    "    document_store = QdrantDocumentStore(\n",
    "        # location=location,\n",
    "        recreate_index=True,\n",
    "        similarity=embedding_similarity_function,\n",
    "        embedding_dim=hp.int(256, name=\"embedding_dim\"),\n",
    "        on_disk=True,\n",
    "        path=\"qdrant/data\",\n",
    "    )\n",
    "\n",
    "    embedding_retriever = QdrantEmbeddingRetriever(document_store=document_store, top_k=hp.int(20))\n",
    "\n",
    "    from haystack import Pipeline\n",
    "\n",
    "    from src.haystack_utils import PassThroughDocuments, PassThroughText\n",
    "\n",
    "    pipeline = Pipeline()\n",
    "    pipeline.add_component(\"query\", PassThroughText())\n",
    "    pipeline.add_component(\"embedding_retriever\", embedding_retriever)\n",
    "    pipeline.add_component(\"retrieved_documents\", PassThroughDocuments())\n",
    "    pipeline.connect(\"embedding_retriever\", \"retrieved_documents\")\n",
    "\n",
    "\n",
    "qdrant_retrieval.save(\"configs/qdrant_retrieval.py\")"
   ]
  },
  {
   "cell_type": "code",
   "execution_count": 17,
   "metadata": {},
   "outputs": [
    {
     "data": {
      "application/vnd.jupyter.widget-view+json": {
       "model_id": "1a7ca59a0682410ab072a0b6fbb14479",
       "version_major": 2,
       "version_minor": 0
      },
      "text/plain": [
       "VBox(children=(Dropdown(description='embedding_similarity_function', layout=Layout(min_width='300px', width='3\u2026"
      ]
     },
     "metadata": {},
     "output_type": "display_data"
    }
   ],
   "source": [
    "results = interactive_config(qdrant_retrieval)"
   ]
  },
  {
   "cell_type": "markdown",
   "metadata": {},
   "source": [
    "# Reranker"
   ]
  },
  {
   "cell_type": "code",
   "execution_count": 18,
   "metadata": {},
   "outputs": [],
   "source": [
    "from hypster import HP, config\n",
    "\n",
    "\n",
    "@config\n",
    "def reranker(hp: HP):\n",
    "    jina_models = {\n",
    "        \"jina-reranker-v2\": \"jina-reranker-v2-base-multilingual\",\n",
    "        \"jina-colbert-v2\": \"jina-colbert-v2\",\n",
    "        \"jina-reranker-v1\": \"jina-reranker-v1-base-en\",\n",
    "    }\n",
    "\n",
    "    transformers_models = {\n",
    "        \"tiny-bert-v2\": \"cross-encoder/ms-marco-TinyBERT-L-2-v2\",\n",
    "        \"minilm-v2\": \"cross-encoder/ms-marco-MiniLM-L-2-v2\",\n",
    "    }\n",
    "\n",
    "    model = hp.select({**jina_models, **transformers_models}, default=\"jina-reranker-v2\")\n",
    "    top_k = hp.int(3)\n",
    "    if model in jina_models.values():\n",
    "        from haystack_integrations.components.rankers.jina import JinaRanker\n",
    "\n",
    "        reranker = JinaRanker(model=model, top_k=top_k)\n",
    "    else:\n",
    "        from haystack.components.rankers import TransformersSimilarityRanker\n",
    "\n",
    "        reranker = TransformersSimilarityRanker(model=model, top_k=top_k)\n",
    "\n",
    "\n",
    "reranker.save(\"configs/reranker.py\")"
   ]
  },
  {
   "cell_type": "code",
   "execution_count": 19,
   "metadata": {},
   "outputs": [
    {
     "data": {
      "application/vnd.jupyter.widget-view+json": {
       "model_id": "33cc407d700f472caa4aeddcdf72382d",
       "version_major": 2,
       "version_minor": 0
      },
      "text/plain": [
       "VBox(children=(Dropdown(description='model', layout=Layout(min_width='300px', width='300px'), options=('jina-r\u2026"
      ]
     },
     "metadata": {},
     "output_type": "display_data"
    }
   ],
   "source": [
    "results = interactive_config(reranker)"
   ]
  },
  {
   "cell_type": "code",
   "execution_count": 20,
   "metadata": {},
   "outputs": [],
   "source": [
    "@config\n",
    "def response_config(hp: HP):\n",
    "    from textwrap import dedent\n",
    "\n",
    "    llm = hp.nest(\"configs/llm.py\")\n",
    "    llm = llm[\"llm\"]\n",
    "\n",
    "    template = dedent(\"\"\"\\\n",
    "    Given the following information,\n",
    "    answer the question concisely in one to two sentences,\n",
    "    using only the relevant details provided in the documents.\n",
    "    Support your answer with a brief, word-for-word quote from the most pertinent document. \n",
    "    Note that some documents may not be relevant to the question.\n",
    "    ========================================\n",
    "    Context:\n",
    "    {% for document in documents %}\n",
    "    Document {{loop.index}}:\n",
    "    {{ document.meta.llm_extracted_info }}\n",
    "    {{ document.content }}\n",
    "    ---\n",
    "    {% endfor %}\n",
    "    ========================================\n",
    "    Question: {{query}}\n",
    "\n",
    "    Answer:\n",
    "\n",
    "    Supporting Quote:\n",
    "    \"\"\")\n",
    "\n",
    "\n",
    "response_config.save(\"configs/response.py\")"
   ]
  },
  {
   "cell_type": "code",
   "execution_count": 21,
   "metadata": {},
   "outputs": [
    {
     "data": {
      "application/vnd.jupyter.widget-view+json": {
       "model_id": "a7e7518ef65e43e9a23d38ba1b6a37fe",
       "version_major": 2,
       "version_minor": 0
      },
      "text/plain": [
       "VBox(children=(VBox(children=(HTML(value=\"<span style='font-size: 1.2em;                 font-weight: bold; ma\u2026"
      ]
     },
     "metadata": {},
     "output_type": "display_data"
    }
   ],
   "source": [
    "results = interactive_config(response_config)"
   ]
  },
  {
   "cell_type": "markdown",
   "metadata": {},
   "source": [
    "# Modular RAG"
   ]
  },
  {
   "cell_type": "code",
   "execution_count": 22,
   "metadata": {},
   "outputs": [],
   "source": [
    "@config\n",
    "def modular_rag(hp: HP):\n",
    "    indexing = hp.nest(\"configs/indexing.py\")\n",
    "    indexing_pipeline = indexing[\"pipeline\"]\n",
    "\n",
    "    embedder_type = hp.select([\"fastembed\", \"jina\"], default=\"fastembed\")\n",
    "    match embedder_type:\n",
    "        case \"fastembed\":\n",
    "            embedder = hp.nest(\"configs/fast_embed.py\")\n",
    "        case \"jina\":\n",
    "            embedder = hp.nest(\"configs/jina_embed.py\")\n",
    "\n",
    "    indexing_pipeline.add_component(\"doc_embedder\", embedder[\"doc_embedder\"])\n",
    "\n",
    "    document_store_type = hp.select([\"in_memory\", \"qdrant\"], default=\"in_memory\")\n",
    "    match document_store_type:\n",
    "        case \"in_memory\":\n",
    "            retrieval = hp.nest(\"configs/in_memory_retrieval.py\")\n",
    "        case \"qdrant\":\n",
    "            retrieval = hp.nest(\"configs/qdrant_retrieval.py\", values={\"embedding_dim\": embedder[\"embedding_dim\"]})\n",
    "\n",
    "    from haystack.components.writers import DocumentWriter\n",
    "    from haystack.document_stores.types import DuplicatePolicy\n",
    "\n",
    "    document_writer = DocumentWriter(retrieval[\"document_store\"], policy=DuplicatePolicy.OVERWRITE)\n",
    "    indexing_pipeline.add_component(\"document_writer\", document_writer)\n",
    "\n",
    "    indexing_pipeline.connect(\"splitter\", \"doc_embedder\")\n",
    "    indexing_pipeline.connect(\"doc_embedder\", \"document_writer\")\n",
    "\n",
    "    pipeline = retrieval[\"pipeline\"]\n",
    "\n",
    "    pipeline.add_component(\"text_embedder\", embedder[\"text_embedder\"])\n",
    "    pipeline.connect(\"query\", \"text_embedder\")\n",
    "    pipeline.connect(\"text_embedder\", \"embedding_retriever.query_embedding\")\n",
    "\n",
    "    from src.haystack_utils import PassThroughDocuments\n",
    "\n",
    "    pipeline.add_component(\"docs_for_generation\", PassThroughDocuments())\n",
    "    use_reranker = hp.select([True, False], default=True)\n",
    "    if use_reranker:\n",
    "        reranker = hp.nest(\"configs/reranker.py\")\n",
    "        pipeline.add_component(\"reranker\", reranker[\"reranker\"])\n",
    "        pipeline.connect(\"retrieved_documents\", \"reranker\")\n",
    "        pipeline.connect(\"reranker\", \"docs_for_generation\")\n",
    "        pipeline.connect(\"query\", \"reranker\")\n",
    "    else:\n",
    "        pipeline.connect(\"retrieved_documents\", \"docs_for_generation\")\n",
    "\n",
    "    response = hp.nest(\"configs/response.py\")\n",
    "    from haystack.components.builders import PromptBuilder\n",
    "\n",
    "    pipeline.add_component(\"prompt_builder\", PromptBuilder(template=response[\"template\"]))\n",
    "    pipeline.add_component(\"llm\", response[\"llm\"])\n",
    "    pipeline.connect(\"prompt_builder\", \"llm\")\n",
    "    pipeline.connect(\"query.text\", \"prompt_builder.query\")\n",
    "    pipeline.connect(\"docs_for_generation\", \"prompt_builder\")\n",
    "\n",
    "\n",
    "modular_rag.save(\"configs/modular_rag.py\")"
   ]
  },
  {
   "cell_type": "code",
   "execution_count": 23,
   "metadata": {},
   "outputs": [],
   "source": [
    "results = modular_rag(\n",
    "    values={\n",
    "        \"indexing.enrich_doc_w_llm\": True,\n",
    "        \"indexing.llm.model\": \"gpt-4o-mini\",\n",
    "        \"document_store_type\": \"in_memory\",\n",
    "        \"retrieval.bm25_weight\": 0.8,\n",
    "        \"embedder_type\": \"fastembed\",\n",
    "        \"reranker.model\": \"tiny-bert-v2\",\n",
    "        \"response.llm.model\": \"gpt-4o-mini\",\n",
    "        \"indexing.splitter.split_length\": 6,\n",
    "        \"reranker.top_k\": 3,\n",
    "    },\n",
    ")"
   ]
  },
  {
   "cell_type": "code",
   "execution_count": 24,
   "metadata": {},
   "outputs": [
    {
     "data": {
      "text/html": [
       "\n",
       "    <style>\n",
       "    .cell-output-ipywidget-background {\n",
       "        background-color: transparent !important;\n",
       "    }\n",
       "    :root {\n",
       "        --jp-widgets-color: var(--vscode-editor-foreground);\n",
       "        --jp-widgets-font-size: var(--vscode-editor-font-size);\n",
       "    }\n",
       "    </style>\n",
       "    "
      ],
      "text/plain": [
       "<IPython.core.display.HTML object>"
      ]
     },
     "metadata": {},
     "output_type": "display_data"
    },
    {
     "data": {
      "application/vnd.jupyter.widget-view+json": {
       "model_id": "05e4b0a632e9449aa4740e52fa1a3966",
       "version_major": 2,
       "version_minor": 0
      },
      "text/plain": [
       "VBox(children=(VBox(children=(HTML(value=\"<span style='font-size: 1.2em;                 font-weight: bold; ma\u2026"
      ]
     },
     "metadata": {},
     "output_type": "display_data"
    }
   ],
   "source": [
    "from hypster.ui import apply_vscode_theme, interactive_config\n",
    "\n",
    "apply_vscode_theme()\n",
    "results = interactive_config(modular_rag)"
   ]
  },
  {
   "cell_type": "code",
   "execution_count": 25,
   "metadata": {},
   "outputs": [
    {
     "data": {
      "application/vnd.jupyter.widget-view+json": {
       "model_id": "1caeaf2e5aef4088bf684f872e20e38d",
       "version_major": 2,
       "version_minor": 0
      },
      "text/plain": [
       "Fetching 5 files:   0%|          | 0/5 [00:00<?, ?it/s]"
      ]
     },
     "metadata": {},
     "output_type": "display_data"
    },
    {
     "name": "stderr",
     "output_type": "stream",
     "text": [
      "Fetching 5 files: 100%|\u2588\u2588\u2588\u2588\u2588\u2588\u2588\u2588\u2588\u2588| 5/5 [00:00<00:00, 67432.54it/s]\n",
      "Fetching 5 files: 100%|\u2588\u2588\u2588\u2588\u2588\u2588\u2588\u2588\u2588\u2588| 5/5 [00:00<00:00, 138884.24it/s]\n",
      "Fetching 5 files: 100%|\u2588\u2588\u2588\u2588\u2588\u2588\u2588\u2588\u2588\u2588| 5/5 [00:00<00:00, 121927.44it/s]\n",
      "Fetching 5 files: 100%|\u2588\u2588\u2588\u2588\u2588\u2588\u2588\u2588\u2588\u2588| 5/5 [00:00<00:00, 153076.79it/s]\n",
      "Fetching 5 files: 100%|\u2588\u2588\u2588\u2588\u2588\u2588\u2588\u2588\u2588\u2588| 5/5 [00:00<00:00, 151967.54it/s]\n",
      "Fetching 5 files: 100%|\u2588\u2588\u2588\u2588\u2588\u2588\u2588\u2588\u2588\u2588| 5/5 [00:00<00:00, 14706.54it/s]\n",
      "Fetching 5 files: 100%|\u2588\u2588\u2588\u2588\u2588\u2588\u2588\u2588\u2588\u2588| 5/5 [00:00<00:00, 16181.73it/s]\n",
      "Fetching 5 files: 100%|\u2588\u2588\u2588\u2588\u2588\u2588\u2588\u2588\u2588\u2588| 5/5 [00:00<00:00, 14285.78it/s]\n",
      "Fetching 5 files: 100%|\u2588\u2588\u2588\u2588\u2588\u2588\u2588\u2588\u2588\u2588| 5/5 [00:00<00:00, 35187.11it/s]\n",
      "Fetching 5 files: 100%|\u2588\u2588\u2588\u2588\u2588\u2588\u2588\u2588\u2588\u2588| 5/5 [00:00<00:00, 33989.50it/s]\n",
      "Calculating embeddings: 100%|\u2588\u2588\u2588\u2588\u2588\u2588\u2588\u2588\u2588\u2588| 312/312 [00:14<00:00, 21.02it/s]\n"
     ]
    }
   ],
   "source": [
    "indexing_pipeline = results[\"indexing_pipeline\"]\n",
    "indexing_pipeline.warm_up()\n",
    "\n",
    "file_paths = [\"data/raw/modular_rag.pdf\"]\n",
    "for file_path in file_paths:  # this can be parallelized\n",
    "    indexing_pipeline.run({\"loader\": {\"sources\": [file_path]}})"
   ]
  },
  {
   "cell_type": "code",
   "execution_count": 26,
   "metadata": {},
   "outputs": [
    {
     "name": "stderr",
     "output_type": "stream",
     "text": [
      "Calculating embeddings: 100%|\u2588\u2588\u2588\u2588\u2588\u2588\u2588\u2588\u2588\u2588| 1/1 [00:00<00:00, 45.74it/s]\n"
     ]
    }
   ],
   "source": [
    "query = \"What are the 6 main modules of the modular RAG framework?\"\n",
    "\n",
    "pipeline = results[\"pipeline\"]\n",
    "pipeline.warm_up()\n",
    "response = pipeline.run({\"query\": {\"text\": query}}, include_outputs_from=[\"prompt_builder\", \"docs_for_generation\"])"
   ]
  },
  {
   "cell_type": "code",
   "execution_count": 27,
   "metadata": {},
   "outputs": [
    {
     "name": "stdout",
     "output_type": "stream",
     "text": [
      "The six main modules of the modular RAG framework are Indexing, Pre-retrieval, Retrieval, Post-retrieval, Generation, and Orchestration. \n",
      "\n",
      "Supporting Quote: \"we have established six main modules: Indexing, Pre-retrieval, Retrieval, Post-retrieval, Generation, and Orchestration.\"\n"
     ]
    }
   ],
   "source": [
    "print(response[\"llm\"][\"replies\"][0])"
   ]
  }
 ],
 "metadata": {
  "kernelspec": {
   "display_name": "modular-rag",
   "language": "python",
   "name": "python3"
  },
  "language_info": {
   "codemirror_mode": {
    "name": "ipython",
    "version": 3
   },
   "file_extension": ".py",
   "mimetype": "text/x-python",
   "name": "python",
   "nbconvert_exporter": "python",
   "pygments_lexer": "ipython3",
   "version": "3.10.15"
  }
 },
 "nbformat": 4,
 "nbformat_minor": 4
}